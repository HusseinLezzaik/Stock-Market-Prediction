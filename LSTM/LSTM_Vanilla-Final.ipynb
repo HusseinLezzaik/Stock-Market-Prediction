{
 "cells": [
  {
   "cell_type": "code",
   "execution_count": 1,
   "metadata": {},
   "outputs": [],
   "source": [
    "import numpy as np\n",
    "import pandas as pd\n",
    "import matplotlib.pyplot as plt\n",
    "import pandas_datareader.data as web"
   ]
  },
  {
   "cell_type": "markdown",
   "metadata": {},
   "source": [
    "## Load the dataset - CAC40 from Yahoo"
   ]
  },
  {
   "cell_type": "code",
   "execution_count": 2,
   "metadata": {},
   "outputs": [],
   "source": [
    "startDate = pd.to_datetime('2005-01-01')\n",
    "endDate = pd.to_datetime('2020-11-15')\n",
    "df = web.DataReader(\"^FCHI\", data_source='yahoo', start = startDate,end = endDate)"
   ]
  },
  {
   "cell_type": "code",
   "execution_count": 3,
   "metadata": {},
   "outputs": [
    {
     "data": {
      "text/html": [
       "<div>\n",
       "<style scoped>\n",
       "    .dataframe tbody tr th:only-of-type {\n",
       "        vertical-align: middle;\n",
       "    }\n",
       "\n",
       "    .dataframe tbody tr th {\n",
       "        vertical-align: top;\n",
       "    }\n",
       "\n",
       "    .dataframe thead th {\n",
       "        text-align: right;\n",
       "    }\n",
       "</style>\n",
       "<table border=\"1\" class=\"dataframe\">\n",
       "  <thead>\n",
       "    <tr style=\"text-align: right;\">\n",
       "      <th></th>\n",
       "      <th>High</th>\n",
       "      <th>Low</th>\n",
       "      <th>Open</th>\n",
       "      <th>Close</th>\n",
       "      <th>Volume</th>\n",
       "      <th>Adj Close</th>\n",
       "    </tr>\n",
       "    <tr>\n",
       "      <th>Date</th>\n",
       "      <th></th>\n",
       "      <th></th>\n",
       "      <th></th>\n",
       "      <th></th>\n",
       "      <th></th>\n",
       "      <th></th>\n",
       "    </tr>\n",
       "  </thead>\n",
       "  <tbody>\n",
       "    <tr>\n",
       "      <th>2020-11-09</th>\n",
       "      <td>5387.490234</td>\n",
       "      <td>5021.330078</td>\n",
       "      <td>5036.919922</td>\n",
       "      <td>5336.319824</td>\n",
       "      <td>0.0</td>\n",
       "      <td>5336.319824</td>\n",
       "    </tr>\n",
       "    <tr>\n",
       "      <th>2020-11-10</th>\n",
       "      <td>5439.080078</td>\n",
       "      <td>5327.220215</td>\n",
       "      <td>5351.310059</td>\n",
       "      <td>5418.970215</td>\n",
       "      <td>0.0</td>\n",
       "      <td>5418.970215</td>\n",
       "    </tr>\n",
       "    <tr>\n",
       "      <th>2020-11-11</th>\n",
       "      <td>5462.950195</td>\n",
       "      <td>5408.669922</td>\n",
       "      <td>5433.660156</td>\n",
       "      <td>5445.209961</td>\n",
       "      <td>0.0</td>\n",
       "      <td>5445.209961</td>\n",
       "    </tr>\n",
       "    <tr>\n",
       "      <th>2020-11-12</th>\n",
       "      <td>5421.399902</td>\n",
       "      <td>5348.629883</td>\n",
       "      <td>5394.370117</td>\n",
       "      <td>5362.569824</td>\n",
       "      <td>0.0</td>\n",
       "      <td>5362.569824</td>\n",
       "    </tr>\n",
       "    <tr>\n",
       "      <th>2020-11-13</th>\n",
       "      <td>5411.120117</td>\n",
       "      <td>5343.250000</td>\n",
       "      <td>5343.319824</td>\n",
       "      <td>5380.160156</td>\n",
       "      <td>0.0</td>\n",
       "      <td>5380.160156</td>\n",
       "    </tr>\n",
       "  </tbody>\n",
       "</table>\n",
       "</div>"
      ],
      "text/plain": [
       "                   High          Low         Open        Close  Volume  \\\n",
       "Date                                                                     \n",
       "2020-11-09  5387.490234  5021.330078  5036.919922  5336.319824     0.0   \n",
       "2020-11-10  5439.080078  5327.220215  5351.310059  5418.970215     0.0   \n",
       "2020-11-11  5462.950195  5408.669922  5433.660156  5445.209961     0.0   \n",
       "2020-11-12  5421.399902  5348.629883  5394.370117  5362.569824     0.0   \n",
       "2020-11-13  5411.120117  5343.250000  5343.319824  5380.160156     0.0   \n",
       "\n",
       "              Adj Close  \n",
       "Date                     \n",
       "2020-11-09  5336.319824  \n",
       "2020-11-10  5418.970215  \n",
       "2020-11-11  5445.209961  \n",
       "2020-11-12  5362.569824  \n",
       "2020-11-13  5380.160156  "
      ]
     },
     "execution_count": 3,
     "metadata": {},
     "output_type": "execute_result"
    }
   ],
   "source": [
    "df.tail()"
   ]
  },
  {
   "cell_type": "code",
   "execution_count": 5,
   "metadata": {},
   "outputs": [
    {
     "name": "stdout",
     "output_type": "stream",
     "text": [
      "Date\n",
      "2020-10-26    4816.120117\n",
      "2020-10-27    4730.660156\n",
      "2020-10-28    4571.120117\n",
      "2020-10-29    4569.669922\n",
      "2020-10-30    4594.240234\n",
      "2020-11-02    4691.140137\n",
      "2020-11-03    4805.609863\n",
      "2020-11-04    4922.850098\n",
      "2020-11-05    4983.990234\n",
      "2020-11-06    4960.879883\n",
      "2020-11-09    5336.319824\n",
      "2020-11-10    5418.970215\n",
      "2020-11-11    5445.209961\n",
      "2020-11-12    5362.569824\n",
      "2020-11-13    5380.160156\n",
      "Name: Close, dtype: float64\n"
     ]
    }
   ],
   "source": [
    "data = df[\"Close\"]\n",
    "last_15_days = data.tail(15)\n",
    "print(last_15_days)"
   ]
  },
  {
   "cell_type": "code",
   "execution_count": 6,
   "metadata": {},
   "outputs": [
    {
     "name": "stdout",
     "output_type": "stream",
     "text": [
      "Date\n",
      "2005-01-03    3855.679932\n",
      "2005-01-04    3863.300049\n",
      "2005-01-05    3829.360107\n",
      "2005-01-06    3856.479980\n",
      "2005-01-07    3877.959961\n",
      "Name: Close, dtype: float64\n"
     ]
    }
   ],
   "source": [
    "print(data.head())"
   ]
  },
  {
   "cell_type": "code",
   "execution_count": 7,
   "metadata": {},
   "outputs": [],
   "source": [
    "data = data.reset_index()"
   ]
  },
  {
   "cell_type": "code",
   "execution_count": 8,
   "metadata": {},
   "outputs": [
    {
     "name": "stdout",
     "output_type": "stream",
     "text": [
      "4056\n"
     ]
    }
   ],
   "source": [
    "print(len(data))"
   ]
  },
  {
   "cell_type": "code",
   "execution_count": 9,
   "metadata": {},
   "outputs": [],
   "source": [
    "separating_date = pd.to_datetime('2017-01-01')\n",
    "training_data = data[data['Date'] < separating_date].copy()\n",
    "test_data = data[data['Date'] >= separating_date].copy()"
   ]
  },
  {
   "cell_type": "code",
   "execution_count": 10,
   "metadata": {},
   "outputs": [
    {
     "name": "stdout",
     "output_type": "stream",
     "text": [
      "Training data : 3067, Testing data : 989\n"
     ]
    }
   ],
   "source": [
    "print(\"Training data : \" + str(len(training_data)) + \", Testing data : \" + str(len(test_data)))"
   ]
  },
  {
   "cell_type": "code",
   "execution_count": 11,
   "metadata": {},
   "outputs": [],
   "source": [
    "training_data = training_data.set_index('Date')\n",
    "test_data = test_data.set_index('Date')"
   ]
  },
  {
   "cell_type": "code",
   "execution_count": 12,
   "metadata": {},
   "outputs": [
    {
     "data": {
      "text/plain": [
       "Text(0.5, 1.0, 'CAC40 Close Price')"
      ]
     },
     "execution_count": 12,
     "metadata": {},
     "output_type": "execute_result"
    },
    {
     "data": {
      "image/png": "[encoded data removed]",
      "text/plain": [
       "<Figure size 1008x288 with 1 Axes>"
      ]
     },
     "metadata": {
      "needs_background": "light"
     },
     "output_type": "display_data"
    }
   ],
   "source": [
    "plt.figure(figsize=(14,4))\n",
    "plt.plot(training_data['Close'])\n",
    "plt.plot(test_data['Close'])\n",
    "plt.ylabel(\"Price\")\n",
    "plt.xlabel(\"Date\")\n",
    "plt.legend([\"Training Set\", \"Test Set\"])\n",
    "plt.title(\"CAC40 Close Price\")"
   ]
  },
  {
   "cell_type": "markdown",
   "metadata": {},
   "source": [
    "# Feature scaling"
   ]
  },
  {
   "cell_type": "code",
   "execution_count": 13,
   "metadata": {},
   "outputs": [],
   "source": [
    "from sklearn.preprocessing import MinMaxScaler\n",
    "scaler = MinMaxScaler(feature_range=(0,1))\n",
    "training_data_scaled = scaler.fit_transform(training_data)"
   ]
  },
  {
   "cell_type": "markdown",
   "metadata": {},
   "source": [
    "# Creating data with timesteps"
   ]
  },
  {
   "cell_type": "code",
   "execution_count": 14,
   "metadata": {},
   "outputs": [
    {
     "name": "stdout",
     "output_type": "stream",
     "text": [
      "(3007, 60) (3007,)\n"
     ]
    }
   ],
   "source": [
    "X_train=[]\n",
    "y_train=[]\n",
    "\n",
    "for i in range(60, len(training_data_scaled)):\n",
    "    temp_data = training_data_scaled[i-60:i, 0]\n",
    "    X_train.append(temp_data)\n",
    "    #y_train.append(np.mean(temp_data))\n",
    "    y_train.append(training_data_scaled[i, 0])\n",
    "X_train, y_train = np.array(X_train), np.array(y_train)\n",
    "print(X_train.shape, y_train.shape)"
   ]
  },
  {
   "cell_type": "code",
   "execution_count": 15,
   "metadata": {},
   "outputs": [],
   "source": [
    "X_train = np.reshape(X_train, (X_train.shape[0], X_train.shape[1],1))"
   ]
  },
  {
   "cell_type": "code",
   "execution_count": 16,
   "metadata": {},
   "outputs": [
    {
     "name": "stdout",
     "output_type": "stream",
     "text": [
      "(3007, 60, 1) (3007,)\n"
     ]
    }
   ],
   "source": [
    "print(X_train.shape, y_train.shape)"
   ]
  },
  {
   "cell_type": "markdown",
   "metadata": {},
   "source": [
    "# Building the LSTM\n",
    "To build the LSTM we need to import a few modules from keras:\n",
    "\n",
    "    Sequential for initializing the neural network <br />\n",
    "    Dense for adding a densely connected network layer <br />\n",
    "    LSTM for adding the Long-Short-Term Memory layer <br />\n",
    "    Dropout for adding dropout layers that prevent overfitting <br /><br />\n",
    "After making the predictions we use inverse_transform to get back the stock prices in normal readable format"
   ]
  },
  {
   "cell_type": "code",
   "execution_count": 17,
   "metadata": {},
   "outputs": [
    {
     "name": "stderr",
     "output_type": "stream",
     "text": [
      "Using TensorFlow backend.\n",
      "C:\\Users\\Hp\\anaconda3\\lib\\site-packages\\tensorflow\\python\\framework\\dtypes.py:516: FutureWarning: Passing (type, 1) or '1type' as a synonym of type is deprecated; in a future version of numpy, it will be understood as (type, (1,)) / '(1,)type'.\n",
      "  _np_qint8 = np.dtype([(\"qint8\", np.int8, 1)])\n",
      "C:\\Users\\Hp\\anaconda3\\lib\\site-packages\\tensorflow\\python\\framework\\dtypes.py:517: FutureWarning: Passing (type, 1) or '1type' as a synonym of type is deprecated; in a future version of numpy, it will be understood as (type, (1,)) / '(1,)type'.\n",
      "  _np_quint8 = np.dtype([(\"quint8\", np.uint8, 1)])\n",
      "C:\\Users\\Hp\\anaconda3\\lib\\site-packages\\tensorflow\\python\\framework\\dtypes.py:518: FutureWarning: Passing (type, 1) or '1type' as a synonym of type is deprecated; in a future version of numpy, it will be understood as (type, (1,)) / '(1,)type'.\n",
      "  _np_qint16 = np.dtype([(\"qint16\", np.int16, 1)])\n",
      "C:\\Users\\Hp\\anaconda3\\lib\\site-packages\\tensorflow\\python\\framework\\dtypes.py:519: FutureWarning: Passing (type, 1) or '1type' as a synonym of type is deprecated; in a future version of numpy, it will be understood as (type, (1,)) / '(1,)type'.\n",
      "  _np_quint16 = np.dtype([(\"quint16\", np.uint16, 1)])\n",
      "C:\\Users\\Hp\\anaconda3\\lib\\site-packages\\tensorflow\\python\\framework\\dtypes.py:520: FutureWarning: Passing (type, 1) or '1type' as a synonym of type is deprecated; in a future version of numpy, it will be understood as (type, (1,)) / '(1,)type'.\n",
      "  _np_qint32 = np.dtype([(\"qint32\", np.int32, 1)])\n",
      "C:\\Users\\Hp\\anaconda3\\lib\\site-packages\\tensorflow\\python\\framework\\dtypes.py:525: FutureWarning: Passing (type, 1) or '1type' as a synonym of type is deprecated; in a future version of numpy, it will be understood as (type, (1,)) / '(1,)type'.\n",
      "  np_resource = np.dtype([(\"resource\", np.ubyte, 1)])\n",
      "C:\\Users\\Hp\\anaconda3\\lib\\site-packages\\tensorboard\\compat\\tensorflow_stub\\dtypes.py:541: FutureWarning: Passing (type, 1) or '1type' as a synonym of type is deprecated; in a future version of numpy, it will be understood as (type, (1,)) / '(1,)type'.\n",
      "  _np_qint8 = np.dtype([(\"qint8\", np.int8, 1)])\n",
      "C:\\Users\\Hp\\anaconda3\\lib\\site-packages\\tensorboard\\compat\\tensorflow_stub\\dtypes.py:542: FutureWarning: Passing (type, 1) or '1type' as a synonym of type is deprecated; in a future version of numpy, it will be understood as (type, (1,)) / '(1,)type'.\n",
      "  _np_quint8 = np.dtype([(\"quint8\", np.uint8, 1)])\n",
      "C:\\Users\\Hp\\anaconda3\\lib\\site-packages\\tensorboard\\compat\\tensorflow_stub\\dtypes.py:543: FutureWarning: Passing (type, 1) or '1type' as a synonym of type is deprecated; in a future version of numpy, it will be understood as (type, (1,)) / '(1,)type'.\n",
      "  _np_qint16 = np.dtype([(\"qint16\", np.int16, 1)])\n",
      "C:\\Users\\Hp\\anaconda3\\lib\\site-packages\\tensorboard\\compat\\tensorflow_stub\\dtypes.py:544: FutureWarning: Passing (type, 1) or '1type' as a synonym of type is deprecated; in a future version of numpy, it will be understood as (type, (1,)) / '(1,)type'.\n",
      "  _np_quint16 = np.dtype([(\"quint16\", np.uint16, 1)])\n",
      "C:\\Users\\Hp\\anaconda3\\lib\\site-packages\\tensorboard\\compat\\tensorflow_stub\\dtypes.py:545: FutureWarning: Passing (type, 1) or '1type' as a synonym of type is deprecated; in a future version of numpy, it will be understood as (type, (1,)) / '(1,)type'.\n",
      "  _np_qint32 = np.dtype([(\"qint32\", np.int32, 1)])\n",
      "C:\\Users\\Hp\\anaconda3\\lib\\site-packages\\tensorboard\\compat\\tensorflow_stub\\dtypes.py:550: FutureWarning: Passing (type, 1) or '1type' as a synonym of type is deprecated; in a future version of numpy, it will be understood as (type, (1,)) / '(1,)type'.\n",
      "  np_resource = np.dtype([(\"resource\", np.ubyte, 1)])\n"
     ]
    }
   ],
   "source": [
    "from keras.models import Sequential\n",
    "from keras.layers import Dense\n",
    "from keras.layers import LSTM\n",
    "from keras.layers import Dropout\n",
    "from keras import optimizers"
   ]
  },
  {
   "cell_type": "code",
   "execution_count": 18,
   "metadata": {},
   "outputs": [],
   "source": [
    "regressor = Sequential()"
   ]
  },
  {
   "cell_type": "code",
   "execution_count": 19,
   "metadata": {},
   "outputs": [],
   "source": [
    "regressor.add(LSTM(units = 50, return_sequences = True, input_shape = (X_train.shape[1], 1)))\n",
    "regressor.add(Dropout(0.2))\n",
    "regressor.add(LSTM(units = 50, return_sequences = True))\n",
    "regressor.add(Dropout(0.2))\n",
    "\n",
    "regressor.add(LSTM(units = 50, return_sequences = True))\n",
    "regressor.add(Dropout(0.2))\n",
    "\n",
    "regressor.add(LSTM(units = 50))\n",
    "regressor.add(Dropout(0.5))\n",
    "\n",
    "regressor.add(Dense(units = 1))"
   ]
  },
  {
   "cell_type": "code",
   "execution_count": 20,
   "metadata": {},
   "outputs": [],
   "source": [
    "optimizer = optimizers.Adam(clipvalue=0.5)\n",
    "regressor.compile(optimizer = optimizer, loss = 'mean_squared_error')"
   ]
  },
  {
   "cell_type": "code",
   "execution_count": 21,
   "metadata": {},
   "outputs": [
    {
     "name": "stdout",
     "output_type": "stream",
     "text": [
      "WARNING:tensorflow:From C:\\Users\\Hp\\anaconda3\\lib\\site-packages\\keras\\backend\\tensorflow_backend.py:422: The name tf.global_variables is deprecated. Please use tf.compat.v1.global_variables instead.\n",
      "\n",
      "Epoch 1/20\n",
      "3007/3007 [==============================] - 5s 2ms/step - loss: 0.0806\n",
      "Epoch 2/20\n",
      "3007/3007 [==============================] - 5s 2ms/step - loss: 0.0191\n",
      "Epoch 3/20\n",
      "3007/3007 [==============================] - 5s 2ms/step - loss: 0.0117\n",
      "Epoch 4/20\n",
      "3007/3007 [==============================] - 5s 2ms/step - loss: 0.0102\n",
      "Epoch 5/20\n",
      "3007/3007 [==============================] - 5s 2ms/step - loss: 0.0095\n",
      "Epoch 6/20\n",
      "3007/3007 [==============================] - 5s 2ms/step - loss: 0.0093\n",
      "Epoch 7/20\n",
      "3007/3007 [==============================] - 5s 2ms/step - loss: 0.0095\n",
      "Epoch 8/20\n",
      "3007/3007 [==============================] - 5s 2ms/step - loss: 0.0090\n",
      "Epoch 9/20\n",
      "3007/3007 [==============================] - 5s 2ms/step - loss: 0.0085\n",
      "Epoch 10/20\n",
      "3007/3007 [==============================] - 5s 2ms/step - loss: 0.0083\n",
      "Epoch 11/20\n",
      "3007/3007 [==============================] - 5s 2ms/step - loss: 0.0075\n",
      "Epoch 12/20\n",
      "3007/3007 [==============================] - 5s 2ms/step - loss: 0.0080\n",
      "Epoch 13/20\n",
      "3007/3007 [==============================] - 5s 2ms/step - loss: 0.0078\n",
      "Epoch 14/20\n",
      "3007/3007 [==============================] - 5s 2ms/step - loss: 0.0073\n",
      "Epoch 15/20\n",
      "3007/3007 [==============================] - 5s 2ms/step - loss: 0.0072\n",
      "Epoch 16/20\n",
      "3007/3007 [==============================] - 5s 2ms/step - loss: 0.0074\n",
      "Epoch 17/20\n",
      "3007/3007 [==============================] - 5s 2ms/step - loss: 0.0068\n",
      "Epoch 18/20\n",
      "3007/3007 [==============================] - 5s 2ms/step - loss: 0.0067\n",
      "Epoch 19/20\n",
      "3007/3007 [==============================] - 5s 2ms/step - loss: 0.0067\n",
      "Epoch 20/20\n",
      "3007/3007 [==============================] - 5s 2ms/step - loss: 0.0073\n"
     ]
    },
    {
     "data": {
      "text/plain": [
       "<keras.callbacks.callbacks.History at 0x1231d395f08>"
      ]
     },
     "execution_count": 21,
     "metadata": {},
     "output_type": "execute_result"
    }
   ],
   "source": [
    "regressor.fit(X_train, y_train,epochs = 20, batch_size = 200)"
   ]
  },
  {
   "cell_type": "code",
   "execution_count": 22,
   "metadata": {},
   "outputs": [
    {
     "name": "stdout",
     "output_type": "stream",
     "text": [
      "(1049, 1) (989, 1)\n"
     ]
    }
   ],
   "source": [
    "original_test_data = test_data.copy()\n",
    "test_data_for_prediction = training_data[-60:].append(original_test_data)\n",
    "test_data_scaled = scaler.fit_transform(test_data_for_prediction)\n",
    "print(test_data_scaled.shape, test_data.shape)\n",
    "X_test = []\n",
    "y_test = []\n",
    "\n",
    "for i in range(60, len(test_data_scaled)):\n",
    "    X_test.append(test_data_scaled[i-60:i,0])\n",
    "    y_test.append(test_data_scaled[i,0])\n",
    "X_test, y_test = np.array(X_test), np.array(y_test)\n",
    "X_test = np.reshape(X_test, (X_test.shape[0], X_test.shape[1],1))"
   ]
  },
  {
   "cell_type": "code",
   "execution_count": 23,
   "metadata": {},
   "outputs": [
    {
     "name": "stdout",
     "output_type": "stream",
     "text": [
      "(989, 1) (989,)\n"
     ]
    }
   ],
   "source": [
    "predicted_price = regressor.predict(X_test)\n",
    "print(predicted_price.shape, y_test.shape)\n",
    "y_test = np.reshape(y_test, (y_test.shape[0], 1))"
   ]
  },
  {
   "cell_type": "code",
   "execution_count": 24,
   "metadata": {},
   "outputs": [
    {
     "name": "stdout",
     "output_type": "stream",
     "text": [
      "[6111.24023438]\n",
      "5811.0 4188.0\n"
     ]
    }
   ],
   "source": [
    "predicted_price = scaler.inverse_transform(predicted_price)\n",
    "y_test = scaler.inverse_transform(y_test)\n",
    "predicted_price = pd.DataFrame(predicted_price)\n",
    "predicted_price.rename(columns = {0:'CAC40_predicted'}, inplace = True)\n",
    "predicted_price = predicted_price.round(decimals=0)\n",
    "predicted_price.index = test_data.index\n",
    "print(max(y_test))\n",
    "print(predicted_price['CAC40_predicted'].max(), predicted_price['CAC40_predicted'].min())"
   ]
  },
  {
   "cell_type": "markdown",
   "metadata": {},
   "source": [
    "# Plotting the results"
   ]
  },
  {
   "cell_type": "code",
   "execution_count": 25,
   "metadata": {},
   "outputs": [
    {
     "data": {
      "text/plain": [
       "<matplotlib.legend.Legend at 0x12323b89b48>"
      ]
     },
     "execution_count": 25,
     "metadata": {},
     "output_type": "execute_result"
    },
    {
     "data": {
      "image/png": "[encoded data removed]",
      "text/plain": [
       "<Figure size 1008x360 with 1 Axes>"
      ]
     },
     "metadata": {
      "needs_background": "light"
     },
     "output_type": "display_data"
    }
   ],
   "source": [
    "from sklearn.metrics import mean_squared_error\n",
    "plt.figure(figsize = (14,5))\n",
    "mse = mean_squared_error(y_test, predicted_price)\n",
    "plt.plot(predicted_price['CAC40_predicted'], color = 'red', label = 'Predicted CAC40 closing price')\n",
    "plt.plot(test_data['Close'], color = 'green', label = 'Actual CAC40 closing price')\n",
    "plt.title(\"CAC40 closing Price prediction- with MSE {:10.4f}\".format(mse))\n",
    "plt.xlabel('Time')\n",
    "plt.ylabel('Price (EUR)')\n",
    "plt.legend()"
   ]
  },
  {
   "cell_type": "markdown",
   "metadata": {},
   "source": [
    "### Forecasting future stock"
   ]
  },
  {
   "cell_type": "code",
   "execution_count": 26,
   "metadata": {},
   "outputs": [
    {
     "name": "stdout",
     "output_type": "stream",
     "text": [
      "[4779.9937]\n",
      "[4806.257]\n",
      "[4834.663]\n",
      "[4862.345]\n",
      "[4887.0713]\n"
     ]
    }
   ],
   "source": [
    "n = test_data_scaled.shape[0]\n",
    "X_forecast = test_data_scaled[n-60:n+1,0]\n",
    "X_forecast = np.array(X_forecast)\n",
    "preds = []\n",
    "n_days_ahead = 5\n",
    "for i in range(0,n_days_ahead):\n",
    "    X_forecast = np.reshape(X_forecast, (1, X_forecast.shape[0], 1))\n",
    "    y_pred_scaled = regressor.predict(X_forecast)\n",
    "    y_pred = scaler.inverse_transform(y_pred_scaled)\n",
    "    y_pred = np.reshape(y_pred, (np.shape(y_pred)[0]))\n",
    "    print(y_pred)\n",
    "    y_pred_scaled = np.reshape(y_pred_scaled, (np.shape(y_pred_scaled)[0]))\n",
    "    preds.append(y_pred)\n",
    "    X_forecast = np.reshape(X_forecast, (X_forecast.shape[1]))\n",
    "    X_forecast = np.concatenate((X_forecast, y_pred_scaled), axis=0)\n",
    "    X_forecast = X_forecast[-60:]\n",
    "    n = X_forecast.shape[0]"
   ]
  },
  {
   "cell_type": "code",
   "execution_count": 32,
   "metadata": {},
   "outputs": [
    {
     "data": {
      "text/plain": [
       "(994, 1)"
      ]
     },
     "execution_count": 32,
     "metadata": {},
     "output_type": "execute_result"
    }
   ],
   "source": [
    "prediction = np.concatenate([predicted_price, preds], axis=0)\n",
    "prediction.shape"
   ]
  },
  {
   "cell_type": "code",
   "execution_count": 33,
   "metadata": {},
   "outputs": [],
   "source": [
    "#plt.figure(figsize = (14,5))\n",
    "#plt.title(\"MSE {:10.4f}\".format(mse))\n",
    "#mse = mean_squared_error(y_test, predicted_price)\n",
    "#plt.plot(predicted_price[\"CAC40_predicted\"], color = 'red', label = 'Predicted CAC40 closing price')\n",
    "#plt.plot(prediction, color = 'blue', label = 'Forecast for the future')\n",
    "#plt.plot(test_data[\"Close\"], color = 'green', label = 'Actual CAC40 closing price')\n",
    "#plt.title(\"CAC40 closing Price prediction- with MSE {:10.4f}\".format(mse))\n",
    "#plt.xlabel('Time')\n",
    "#plt.ylabel('Price (EUR)')\n",
    "#plt.legend()"
   ]
  },
  {
   "cell_type": "code",
   "execution_count": null,
   "metadata": {},
   "outputs": [],
   "source": []
  }
 ],
 "metadata": {
  "kernelspec": {
   "display_name": "Python 3",
   "language": "python",
   "name": "python3"
  },
  "language_info": {
   "codemirror_mode": {
    "name": "ipython",
    "version": 3
   },
   "file_extension": ".py",
   "mimetype": "text/x-python",
   "name": "python",
   "nbconvert_exporter": "python",
   "pygments_lexer": "ipython3",
   "version": "3.7.6"
  }
 },
 "nbformat": 4,
 "nbformat_minor": 4
}
